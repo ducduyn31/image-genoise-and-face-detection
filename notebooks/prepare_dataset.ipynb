{
 "cells": [
  {
   "cell_type": "code",
   "execution_count": 1,
   "id": "initial_id",
   "metadata": {
    "collapsed": true,
    "ExecuteTime": {
     "end_time": "2023-11-04T07:04:41.674748Z",
     "start_time": "2023-11-04T07:04:40.278490Z"
    }
   },
   "outputs": [],
   "source": [
    "from helpers.data_augment import prepare_augmented_dataset\n",
    "import pathlib\n",
    "\n",
    "from torchvision import datasets"
   ]
  },
  {
   "cell_type": "code",
   "execution_count": 2,
   "outputs": [],
   "source": [
    "ROOT = pathlib.Path('../data') \n",
    "\n",
    "wdf_ds = datasets.WIDERFace(\n",
    "    root=ROOT,\n",
    ")\n",
    "\n",
    "augmented_path = ROOT / 'aug_widerface'"
   ],
   "metadata": {
    "collapsed": false,
    "ExecuteTime": {
     "end_time": "2023-11-04T07:04:43.250188Z",
     "start_time": "2023-11-04T07:04:41.675851Z"
    }
   },
   "id": "11a4b861abd284da"
  },
  {
   "cell_type": "code",
   "execution_count": 3,
   "outputs": [],
   "source": [
    "origin_dataset = datasets.WIDERFace(\n",
    "    root=ROOT,\n",
    "    split=\"train\",\n",
    ")\n",
    "\n",
    "origin_dataset = datasets.wrap_dataset_for_transforms_v2(origin_dataset, target_keys=[\"bbox\"])"
   ],
   "metadata": {
    "collapsed": false,
    "ExecuteTime": {
     "end_time": "2023-11-04T07:04:44.780741Z",
     "start_time": "2023-11-04T07:04:43.250887Z"
    }
   },
   "id": "a72fe6a5db3e4539"
  },
  {
   "cell_type": "code",
   "execution_count": null,
   "outputs": [
    {
     "name": "stderr",
     "output_type": "stream",
     "text": [
      "  0%|          | 1/12880 [00:00<1:39:49,  2.15it/s]/Users/danielng/opt/anaconda3/envs/IPPRProject/lib/python3.11/site-packages/torchvision/transforms/functional.py:1603: UserWarning: The default value of the antialias parameter of all the resizing transforms (Resize(), RandomResizedCrop(), etc.) will change from None to True in v0.17, in order to be consistent across the PIL and Tensor backends. To suppress this warning, directly pass antialias=True (recommended, future default), antialias=None (current default, which means False for Tensors and True for PIL), or antialias=False (only works on Tensors - PIL will still use antialiasing). This also applies if you are using the inference transforms from the models weights: update the call to weights.transforms(antialias=True).\n",
      "  warnings.warn(\n",
      "  0%|          | 4/12880 [00:01<56:20,  3.81it/s]  /Users/danielng/opt/anaconda3/envs/IPPRProject/lib/python3.11/site-packages/torch/functional.py:504: UserWarning: torch.meshgrid: in an upcoming release, it will be required to pass the indexing argument. (Triggered internally at /Users/runner/work/pytorch/pytorch/pytorch/aten/src/ATen/native/TensorShape.cpp:3527.)\n",
      "  return _VF.meshgrid(tensors, **kwargs)  # type: ignore[attr-defined]\n",
      " 28%|██▊       | 3652/12880 [11:24<33:04,  4.65it/s]  "
     ]
    }
   ],
   "source": [
    "prepare_augmented_dataset(wdf_ds, augmented_path.absolute(), 'train')"
   ],
   "metadata": {
    "collapsed": false,
    "is_executing": true,
    "ExecuteTime": {
     "start_time": "2023-11-04T07:04:44.781047Z"
    }
   },
   "id": "5f97cf9df5fe9dc"
  }
 ],
 "metadata": {
  "kernelspec": {
   "display_name": "Python 3",
   "language": "python",
   "name": "python3"
  },
  "language_info": {
   "codemirror_mode": {
    "name": "ipython",
    "version": 2
   },
   "file_extension": ".py",
   "mimetype": "text/x-python",
   "name": "python",
   "nbconvert_exporter": "python",
   "pygments_lexer": "ipython2",
   "version": "2.7.6"
  }
 },
 "nbformat": 4,
 "nbformat_minor": 5
}
