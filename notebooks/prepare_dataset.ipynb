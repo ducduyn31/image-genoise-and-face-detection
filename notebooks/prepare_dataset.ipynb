{
 "cells": [
  {
   "cell_type": "code",
   "execution_count": 1,
   "outputs": [],
   "source": [
    "!pip install amazon-sagemaker-jupyter-scheduler > /dev/null 2>&1"
   ],
   "metadata": {
    "collapsed": false,
    "ExecuteTime": {
     "end_time": "2023-11-04T14:58:28.024952Z",
     "start_time": "2023-11-04T14:58:23.291059Z"
    }
   },
   "id": "b5c38ba9fa1a902b"
  },
  {
   "cell_type": "code",
   "execution_count": 2,
   "id": "initial_id",
   "metadata": {
    "collapsed": true,
    "ExecuteTime": {
     "end_time": "2023-11-04T14:58:30.128661Z",
     "start_time": "2023-11-04T14:58:28.027038Z"
    }
   },
   "outputs": [],
   "source": [
    "from helpers.data_augment import prepare_augmented_dataset\n",
    "import pathlib\n",
    "\n",
    "from torchvision import datasets"
   ]
  },
  {
   "cell_type": "code",
   "execution_count": 3,
   "outputs": [],
   "source": [
    "ROOT = pathlib.Path('../data') \n",
    "\n",
    "augmented_path = ROOT / 'aug_widerface'"
   ],
   "metadata": {
    "collapsed": false,
    "ExecuteTime": {
     "end_time": "2023-11-04T14:58:30.132845Z",
     "start_time": "2023-11-04T14:58:30.129901Z"
    }
   },
   "id": "11a4b861abd284da"
  },
  {
   "cell_type": "code",
   "execution_count": 4,
   "outputs": [],
   "source": [
    "origin_dataset = datasets.WIDERFace(\n",
    "    root=ROOT,\n",
    "    split=\"train\",\n",
    ")\n",
    "\n",
    "origin_dataset = datasets.wrap_dataset_for_transforms_v2(origin_dataset, target_keys=[\"bbox\"])"
   ],
   "metadata": {
    "collapsed": false,
    "ExecuteTime": {
     "end_time": "2023-11-04T14:58:32.106Z",
     "start_time": "2023-11-04T14:58:30.134203Z"
    }
   },
   "id": "a72fe6a5db3e4539"
  },
  {
   "cell_type": "code",
   "execution_count": 5,
   "outputs": [
    {
     "name": "stderr",
     "output_type": "stream",
     "text": [
      "  0%|          | 3/12880 [00:01<1:07:19,  3.19it/s]/Users/danielng/opt/anaconda3/envs/IPPRProject/lib/python3.11/site-packages/torch/functional.py:504: UserWarning: torch.meshgrid: in an upcoming release, it will be required to pass the indexing argument. (Triggered internally at /Users/runner/work/pytorch/pytorch/pytorch/aten/src/ATen/native/TensorShape.cpp:3527.)\n",
      "  return _VF.meshgrid(tensors, **kwargs)  # type: ignore[attr-defined]\n",
      "  0%|          | 15/12880 [00:03<44:23,  4.83it/s] /Users/danielng/opt/anaconda3/envs/IPPRProject/lib/python3.11/site-packages/torchvision/transforms/functional.py:1603: UserWarning: The default value of the antialias parameter of all the resizing transforms (Resize(), RandomResizedCrop(), etc.) will change from None to True in v0.17, in order to be consistent across the PIL and Tensor backends. To suppress this warning, directly pass antialias=True (recommended, future default), antialias=None (current default, which means False for Tensors and True for PIL), or antialias=False (only works on Tensors - PIL will still use antialiasing). This also applies if you are using the inference transforms from the models weights: update the call to weights.transforms(antialias=True).\n",
      "  warnings.warn(\n",
      "100%|██████████| 12880/12880 [45:55<00:00,  4.67it/s] \n"
     ]
    },
    {
     "data": {
      "text/plain": "(<PIL.JpegImagePlugin.JpegImageFile image mode=RGB size=1024x1385>,\n {'bbox': BoundingBoxes([[449, 330, 571, 479]], format=BoundingBoxFormat.XYXY, canvas_size=(1385, 1024))})"
     },
     "execution_count": 5,
     "metadata": {},
     "output_type": "execute_result"
    }
   ],
   "source": [
    "prepare_augmented_dataset(origin_dataset, augmented_path.absolute(), 'train')"
   ],
   "metadata": {
    "collapsed": false,
    "ExecuteTime": {
     "end_time": "2023-11-04T15:44:32.403168Z",
     "start_time": "2023-11-04T14:58:32.108188Z"
    }
   },
   "id": "5f97cf9df5fe9dc"
  }
 ],
 "metadata": {
  "kernelspec": {
   "display_name": "Python 3",
   "language": "python",
   "name": "python3"
  },
  "language_info": {
   "codemirror_mode": {
    "name": "ipython",
    "version": 2
   },
   "file_extension": ".py",
   "mimetype": "text/x-python",
   "name": "python",
   "nbconvert_exporter": "python",
   "pygments_lexer": "ipython2",
   "version": "2.7.6"
  }
 },
 "nbformat": 4,
 "nbformat_minor": 5
}
