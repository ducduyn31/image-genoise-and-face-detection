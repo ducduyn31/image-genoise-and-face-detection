{
 "cells": [
  {
   "cell_type": "code",
   "execution_count": 1,
   "id": "initial_id",
   "metadata": {
    "collapsed": true,
    "ExecuteTime": {
     "end_time": "2023-11-05T05:51:37.484708Z",
     "start_time": "2023-11-05T05:51:35.526305Z"
    }
   },
   "outputs": [],
   "source": [
    "from helpers.data_augment import prepare_augmented_dataset\n",
    "import pathlib\n",
    "\n",
    "from torchvision import datasets"
   ]
  },
  {
   "cell_type": "code",
   "execution_count": 2,
   "outputs": [],
   "source": [
    "ROOT = pathlib.Path('../data') \n",
    "\n",
    "augmented_path = ROOT / 'aug_widerface'"
   ],
   "metadata": {
    "collapsed": false,
    "ExecuteTime": {
     "end_time": "2023-11-05T05:51:37.490085Z",
     "start_time": "2023-11-05T05:51:37.486243Z"
    }
   },
   "id": "11a4b861abd284da"
  },
  {
   "cell_type": "code",
   "execution_count": 3,
   "outputs": [],
   "source": [
    "origin_dataset = datasets.WIDERFace(\n",
    "    root=ROOT,\n",
    "    split=\"train\",\n",
    ")\n",
    "\n",
    "origin_dataset = datasets.wrap_dataset_for_transforms_v2(origin_dataset, target_keys=[\"bbox\"])"
   ],
   "metadata": {
    "collapsed": false,
    "ExecuteTime": {
     "end_time": "2023-11-05T05:51:39.097089Z",
     "start_time": "2023-11-05T05:51:37.491217Z"
    }
   },
   "id": "a72fe6a5db3e4539"
  },
  {
   "cell_type": "code",
   "execution_count": 4,
   "outputs": [
    {
     "name": "stderr",
     "output_type": "stream",
     "text": [
      "  0%|          | 0/12880 [00:00<?, ?it/s]/Users/danielng/opt/anaconda3/envs/IPPRProject/lib/python3.11/site-packages/torch/functional.py:504: UserWarning: torch.meshgrid: in an upcoming release, it will be required to pass the indexing argument. (Triggered internally at /Users/runner/work/pytorch/pytorch/pytorch/aten/src/ATen/native/TensorShape.cpp:3527.)\n",
      "  return _VF.meshgrid(tensors, **kwargs)  # type: ignore[attr-defined]\n",
      "  0%|          | 5/12880 [00:01<1:01:53,  3.47it/s]/Users/danielng/opt/anaconda3/envs/IPPRProject/lib/python3.11/site-packages/torchvision/transforms/functional.py:1603: UserWarning: The default value of the antialias parameter of all the resizing transforms (Resize(), RandomResizedCrop(), etc.) will change from None to True in v0.17, in order to be consistent across the PIL and Tensor backends. To suppress this warning, directly pass antialias=True (recommended, future default), antialias=None (current default, which means False for Tensors and True for PIL), or antialias=False (only works on Tensors - PIL will still use antialiasing). This also applies if you are using the inference transforms from the models weights: update the call to weights.transforms(antialias=True).\n",
      "  warnings.warn(\n",
      "100%|██████████| 12880/12880 [42:27<00:00,  5.06it/s]  \n"
     ]
    },
    {
     "data": {
      "text/plain": "(<PIL.JpegImagePlugin.JpegImageFile image mode=RGB size=1024x1385>,\n {'bbox': BoundingBoxes([[449, 330, 571, 479]], format=BoundingBoxFormat.XYXY, canvas_size=(1385, 1024))})"
     },
     "execution_count": 4,
     "metadata": {},
     "output_type": "execute_result"
    }
   ],
   "source": [
    "prepare_augmented_dataset(origin_dataset, augmented_path.absolute(), 'train')"
   ],
   "metadata": {
    "collapsed": false,
    "ExecuteTime": {
     "end_time": "2023-11-05T06:34:10.385345Z",
     "start_time": "2023-11-05T05:51:39.097617Z"
    }
   },
   "id": "5f97cf9df5fe9dc"
  },
  {
   "cell_type": "code",
   "execution_count": 5,
   "outputs": [
    {
     "name": "stderr",
     "output_type": "stream",
     "text": [
      "100%|██████████| 3226/3226 [10:36<00:00,  5.07it/s]\n"
     ]
    },
    {
     "data": {
      "text/plain": "(<PIL.JpegImagePlugin.JpegImageFile image mode=RGB size=1024x678>,\n {'bbox': BoundingBoxes([[ 345,  211,  349,  215],\n                 [ 331,  126,  334,  129],\n                 [ 250,  126,  253,  130],\n                 [ 221,  128,  225,  133],\n                 [ 427,  116,  430,  120],\n                 [ 393,   79,  396,   83],\n                 [ 373,  119,  376,  123],\n                 [  90,  225,   96,  230],\n                 [ 128,  237,  133,  245],\n                 [ 170,  230,  175,  236],\n                 [ 114,  285,  119,  292],\n                 [  81,  304,   90,  313],\n                 [  44,  303,   54,  311],\n                 [   7,  264,   13,  272],\n                 [  31,  231,   36,  237],\n                 [  26,  192,   32,  200],\n                 [  66,  196,   70,  202],\n                 [  74,  175,   79,  180],\n                 [ 113,  168,  117,  173],\n                 [ 129,  165,  133,  170],\n                 [ 158,  162,  162,  166],\n                 [ 174,  156,  179,  162],\n                 [ 197,  159,  201,  163],\n                 [ 192,  191,  195,  196],\n                 [ 242,  179,  247,  185],\n                 [ 161,  269,  166,  275],\n                 [   0,  317,    3,  325],\n                 [ 346,   68,  349,   72],\n                 [ 418,   62,  420,   65],\n                 [ 376,   59,  379,   62],\n                 [ 120,  599,  132,  616],\n                 [1008,  256, 1014,  266],\n                 [ 853,  131,  857,  136],\n                 [ 878,  131,  883,  136],\n                 [ 900,  138,  904,  144],\n                 [ 922,  142,  927,  147],\n                 [ 936,  139,  941,  145],\n                 [ 959,  134,  964,  141],\n                 [ 984,  141,  989,  146],\n                 [1010,  141, 1014,  147],\n                 [ 877,  168,  884,  177],\n                 [ 947,  160,  952,  167],\n                 [ 963,  190,  968,  197],\n                 [ 982,  194,  987,  201],\n                 [ 798,  133,  802,  137],\n                 [ 815,  170,  819,  175],\n                 [ 794,  166,  798,  172],\n                 [ 845,  167,  849,  174],\n                 [ 839,  145,  842,  150],\n                 [1003,  164, 1008,  171],\n                 [ 921,  227,  928,  235],\n                 [ 881,  215,  886,  221],\n                 [ 836,  209,  842,  217],\n                 [ 801,  204,  807,  212],\n                 [ 875,  257,  881,  265],\n                 [ 932,  270,  938,  277],\n                 [1002,  295, 1010,  303],\n                 [ 984,  249,  989,  257],\n                 [ 918,  173,  923,  179],\n                 [ 973,  163,  978,  169],\n                 [ 913,  160,  918,  166],\n                 [ 700,  237,  706,  244],\n                 [ 664,  239,  670,  247],\n                 [ 669,  260,  676,  268],\n                 [ 618,  264,  624,  272],\n                 [ 598,  239,  602,  245],\n                 [ 627,  235,  635,  244],\n                 [ 560,  237,  564,  243],\n                 [ 524,  246,  528,  250],\n                 [ 522,  267,  527,  273],\n                 [ 607,  198,  613,  205],\n                 [ 600,  157,  604,  162],\n                 [ 628,  154,  632,  159],\n                 [ 528,  157,  532,  163],\n                 [ 505,  142,  509,  147],\n                 [ 488,  143,  492,  148],\n                 [ 503,  165,  508,  172],\n                 [ 554,  165,  558,  170],\n                 [ 769,  160,  775,  167],\n                 [ 750,  160,  755,  167],\n                 [ 682,  155,  687,  161],\n                 [ 704,  156,  708,  162],\n                 [ 658,  153,  663,  159],\n                 [ 604,  135,  608,  141],\n                 [ 687,  127,  691,  133],\n                 [ 701,  127,  705,  133],\n                 [ 732,  130,  737,  136],\n                 [ 532,  136,  537,  140],\n                 [ 570,  137,  573,  141],\n                 [ 618,   80,  621,   84],\n                 [ 538,   78,  541,   82],\n                 [ 571,  154,  576,  160],\n                 [ 744,  104,  748,  109],\n                 [ 711,  105,  715,  109],\n                 [ 660,  106,  664,  111],\n                 [ 616,  110,  620,  114],\n                 [ 579,  109,  583,  113],\n                 [ 548,  106,  552,  110],\n                 [ 510,  104,  514,  107],\n                 [ 333,  155,  336,  159],\n                 [ 350,  168,  354,  174],\n                 [ 390,  167,  394,  173],\n                 [ 366,  250,  371,  257],\n                 [ 313,  177,  319,  183],\n                 [ 231,  251,  236,  256],\n                 [ 236,  157,  240,  162],\n                 [ 224,  152,  228,  157],\n                 [ 210,  151,  214,  156],\n                 [ 262,  157,  265,  161],\n                 [ 431,  167,  435,  172],\n                 [ 427,  205,  431,  211],\n                 [ 467,  168,  471,  173],\n                 [ 466,  257,  474,  266],\n                 [ 293,  252,  297,  257],\n                 [ 568,  273,  572,  278],\n                 [ 489,  242,  492,  247],\n                 [ 603,   61,  605,   63],\n                 [ 463,   94,  466,   97],\n                 [ 382,  147,  386,  152],\n                 [ 433,  145,  436,  151],\n                 [ 465,   68,  468,   73],\n                 [ 709,  267,  716,  276],\n                 [ 761,  268,  768,  276],\n                 [ 735,  241,  741,  249],\n                 [  75,  247,   85,  257],\n                 [ 707,  199,  713,  207]], format=BoundingBoxFormat.XYXY, canvas_size=(678, 1024))})"
     },
     "execution_count": 5,
     "metadata": {},
     "output_type": "execute_result"
    }
   ],
   "source": [
    "origin_val_dataset = datasets.WIDERFace(\n",
    "    root=ROOT,\n",
    "    split=\"val\",\n",
    ")\n",
    "\n",
    "origin_val_dataset = datasets.wrap_dataset_for_transforms_v2(origin_val_dataset, target_keys=[\"bbox\"])\n",
    "\n",
    "prepare_augmented_dataset(origin_val_dataset, augmented_path.absolute(), 'val')"
   ],
   "metadata": {
    "collapsed": false,
    "ExecuteTime": {
     "end_time": "2023-11-05T06:44:48.646097Z",
     "start_time": "2023-11-05T06:34:10.395230Z"
    }
   },
   "id": "4c8a0076c0307179"
  }
 ],
 "metadata": {
  "kernelspec": {
   "display_name": "Python 3",
   "language": "python",
   "name": "python3"
  },
  "language_info": {
   "codemirror_mode": {
    "name": "ipython",
    "version": 2
   },
   "file_extension": ".py",
   "mimetype": "text/x-python",
   "name": "python",
   "nbconvert_exporter": "python",
   "pygments_lexer": "ipython2",
   "version": "2.7.6"
  }
 },
 "nbformat": 4,
 "nbformat_minor": 5
}
