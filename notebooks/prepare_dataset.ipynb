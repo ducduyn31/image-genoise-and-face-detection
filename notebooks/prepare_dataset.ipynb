{
 "cells": [
  {
   "cell_type": "code",
   "execution_count": 1,
   "id": "initial_id",
   "metadata": {
    "collapsed": true,
    "ExecuteTime": {
     "end_time": "2023-11-04T07:04:41.674748Z",
     "start_time": "2023-11-04T07:04:40.278490Z"
    }
   },
   "outputs": [],
   "source": [
    "from helpers.data_augment import prepare_augmented_dataset\n",
    "import pathlib\n",
    "\n",
    "from torchvision import datasets"
   ]
  },
  {
   "cell_type": "code",
   "execution_count": 2,
   "outputs": [],
   "source": [
    "ROOT = pathlib.Path('../data') \n",
    "\n",
    "wdf_ds = datasets.WIDERFace(\n",
    "    root=ROOT,\n",
    ")\n",
    "\n",
    "augmented_path = ROOT / 'aug_widerface'"
   ],
   "metadata": {
    "collapsed": false,
    "ExecuteTime": {
     "end_time": "2023-11-04T07:04:43.250188Z",
     "start_time": "2023-11-04T07:04:41.675851Z"
    }
   },
   "id": "11a4b861abd284da"
  },
  {
   "cell_type": "code",
   "execution_count": 3,
   "outputs": [],
   "source": [
    "origin_dataset = datasets.WIDERFace(\n",
    "    root=ROOT,\n",
    "    split=\"train\",\n",
    ")\n",
    "\n",
    "origin_dataset = datasets.wrap_dataset_for_transforms_v2(origin_dataset, target_keys=[\"bbox\"])"
   ],
   "metadata": {
    "collapsed": false,
    "ExecuteTime": {
     "end_time": "2023-11-04T07:04:44.780741Z",
     "start_time": "2023-11-04T07:04:43.250887Z"
    }
   },
   "id": "a72fe6a5db3e4539"
  },
  {
   "cell_type": "code",
   "execution_count": 4,
   "outputs": [
    {
     "name": "stderr",
     "output_type": "stream",
     "text": [
      "  0%|          | 1/12880 [00:00<1:39:49,  2.15it/s]/Users/danielng/opt/anaconda3/envs/IPPRProject/lib/python3.11/site-packages/torchvision/transforms/functional.py:1603: UserWarning: The default value of the antialias parameter of all the resizing transforms (Resize(), RandomResizedCrop(), etc.) will change from None to True in v0.17, in order to be consistent across the PIL and Tensor backends. To suppress this warning, directly pass antialias=True (recommended, future default), antialias=None (current default, which means False for Tensors and True for PIL), or antialias=False (only works on Tensors - PIL will still use antialiasing). This also applies if you are using the inference transforms from the models weights: update the call to weights.transforms(antialias=True).\n",
      "  warnings.warn(\n",
      "  0%|          | 4/12880 [00:01<56:20,  3.81it/s]  /Users/danielng/opt/anaconda3/envs/IPPRProject/lib/python3.11/site-packages/torch/functional.py:504: UserWarning: torch.meshgrid: in an upcoming release, it will be required to pass the indexing argument. (Triggered internally at /Users/runner/work/pytorch/pytorch/pytorch/aten/src/ATen/native/TensorShape.cpp:3527.)\n",
      "  return _VF.meshgrid(tensors, **kwargs)  # type: ignore[attr-defined]\n",
      "100%|██████████| 12880/12880 [42:42<00:00,  5.03it/s]  \n"
     ]
    },
    {
     "ename": "FileNotFoundError",
     "evalue": "[Errno 2] No such file or directory: '/Users/danielng/Projects/IPPRProject/notebooks/../data/aug_widerface/AUG_wider_face_train/aug_wider_face_train_bbx_gt.txt'",
     "output_type": "error",
     "traceback": [
      "\u001B[0;31m---------------------------------------------------------------------------\u001B[0m",
      "\u001B[0;31mFileNotFoundError\u001B[0m                         Traceback (most recent call last)",
      "Cell \u001B[0;32mIn[4], line 1\u001B[0m\n\u001B[0;32m----> 1\u001B[0m \u001B[43mprepare_augmented_dataset\u001B[49m\u001B[43m(\u001B[49m\u001B[43mwdf_ds\u001B[49m\u001B[43m,\u001B[49m\u001B[43m \u001B[49m\u001B[43maugmented_path\u001B[49m\u001B[38;5;241;43m.\u001B[39;49m\u001B[43mabsolute\u001B[49m\u001B[43m(\u001B[49m\u001B[43m)\u001B[49m\u001B[43m,\u001B[49m\u001B[43m \u001B[49m\u001B[38;5;124;43m'\u001B[39;49m\u001B[38;5;124;43mtrain\u001B[39;49m\u001B[38;5;124;43m'\u001B[39;49m\u001B[43m)\u001B[49m\n",
      "File \u001B[0;32m~/Projects/IPPRProject/helpers/data_augment.py:90\u001B[0m, in \u001B[0;36mprepare_augmented_dataset\u001B[0;34m(origin_dataset, stored_location, split)\u001B[0m\n\u001B[1;32m     87\u001B[0m         temp[\u001B[38;5;124mf\u001B[39m\u001B[38;5;124m'\u001B[39m\u001B[38;5;132;01m{\u001B[39;00mraw_img_name\u001B[38;5;132;01m}\u001B[39;00m\u001B[38;5;124m_aug_\u001B[39m\u001B[38;5;132;01m{\u001B[39;00mj\u001B[38;5;132;01m}\u001B[39;00m\u001B[38;5;124m.jpg\u001B[39m\u001B[38;5;124m'\u001B[39m] \u001B[38;5;241m=\u001B[39m aug_bboxes\n\u001B[1;32m     89\u001B[0m \u001B[38;5;66;03m# Store the labels\u001B[39;00m\n\u001B[0;32m---> 90\u001B[0m \u001B[38;5;28;01mwith\u001B[39;00m \u001B[38;5;28mopen\u001B[39m(\u001B[38;5;124mf\u001B[39m\u001B[38;5;124m'\u001B[39m\u001B[38;5;132;01m{\u001B[39;00mstored_location\u001B[38;5;132;01m}\u001B[39;00m\u001B[38;5;124m/AUG_wider_face_\u001B[39m\u001B[38;5;132;01m{\u001B[39;00msplit\u001B[38;5;132;01m}\u001B[39;00m\u001B[38;5;124m/aug_wider_face_\u001B[39m\u001B[38;5;132;01m{\u001B[39;00msplit\u001B[38;5;132;01m}\u001B[39;00m\u001B[38;5;124m_bbx_gt.txt\u001B[39m\u001B[38;5;124m'\u001B[39m, \u001B[38;5;124m'\u001B[39m\u001B[38;5;124mw\u001B[39m\u001B[38;5;124m'\u001B[39m) \u001B[38;5;28;01mas\u001B[39;00m f:\n\u001B[1;32m     91\u001B[0m     \u001B[38;5;28;01mfor\u001B[39;00m fname, bboxes \u001B[38;5;129;01min\u001B[39;00m temp\u001B[38;5;241m.\u001B[39mitems():\n\u001B[1;32m     92\u001B[0m         f\u001B[38;5;241m.\u001B[39mwrite(fname \u001B[38;5;241m+\u001B[39m \u001B[38;5;124m'\u001B[39m\u001B[38;5;130;01m\\n\u001B[39;00m\u001B[38;5;124m'\u001B[39m)\n",
      "\u001B[0;31mFileNotFoundError\u001B[0m: [Errno 2] No such file or directory: '/Users/danielng/Projects/IPPRProject/notebooks/../data/aug_widerface/AUG_wider_face_train/aug_wider_face_train_bbx_gt.txt'"
     ]
    }
   ],
   "source": [
    "prepare_augmented_dataset(wdf_ds, augmented_path.absolute(), 'train')"
   ],
   "metadata": {
    "collapsed": false,
    "ExecuteTime": {
     "end_time": "2023-11-04T07:47:27.036240Z",
     "start_time": "2023-11-04T07:04:44.781047Z"
    }
   },
   "id": "5f97cf9df5fe9dc"
  }
 ],
 "metadata": {
  "kernelspec": {
   "display_name": "Python 3",
   "language": "python",
   "name": "python3"
  },
  "language_info": {
   "codemirror_mode": {
    "name": "ipython",
    "version": 2
   },
   "file_extension": ".py",
   "mimetype": "text/x-python",
   "name": "python",
   "nbconvert_exporter": "python",
   "pygments_lexer": "ipython2",
   "version": "2.7.6"
  }
 },
 "nbformat": 4,
 "nbformat_minor": 5
}
