{
 "cells": [
  {
   "cell_type": "code",
   "execution_count": 1,
   "id": "initial_id",
   "metadata": {
    "collapsed": true,
    "ExecuteTime": {
     "end_time": "2023-11-05T02:01:01.058026Z",
     "start_time": "2023-11-05T02:00:59.224265Z"
    }
   },
   "outputs": [],
   "source": [
    "from custom_dataset.augmented_dataset import AugmentedDataset\n",
    "import pathlib"
   ]
  },
  {
   "cell_type": "code",
   "execution_count": 2,
   "outputs": [],
   "source": [
    "ROOT = pathlib.Path('../data/')"
   ],
   "metadata": {
    "collapsed": false,
    "ExecuteTime": {
     "end_time": "2023-11-05T02:01:01.061683Z",
     "start_time": "2023-11-05T02:01:01.059585Z"
    }
   },
   "id": "e27aed42080bc358"
  },
  {
   "cell_type": "code",
   "execution_count": 3,
   "outputs": [],
   "source": [
    "from torchvision import datasets\n",
    "\n",
    "wds = datasets.WIDERFace(root=ROOT, split='train')\n",
    "\n",
    "wds = datasets.wrap_dataset_for_transforms_v2(wds, target_keys=['bbox'])"
   ],
   "metadata": {
    "collapsed": false,
    "ExecuteTime": {
     "end_time": "2023-11-05T02:01:02.761286Z",
     "start_time": "2023-11-05T02:01:01.063Z"
    }
   },
   "id": "6ae7008798eef4cd"
  },
  {
   "cell_type": "code",
   "execution_count": 5,
   "outputs": [],
   "source": [
    "from torchvision.datasets import wrap_dataset_for_transforms_v2\n",
    "\n",
    "aug_ds = AugmentedDataset(ROOT, 'train')\n",
    "aug_ds = wrap_dataset_for_transforms_v2(aug_ds)"
   ],
   "metadata": {
    "collapsed": false,
    "ExecuteTime": {
     "end_time": "2023-11-05T02:01:41.881564Z",
     "start_time": "2023-11-05T02:01:39.139666Z"
    }
   },
   "id": "faa4effae6c114cb"
  }
 ],
 "metadata": {
  "kernelspec": {
   "display_name": "Python 3",
   "language": "python",
   "name": "python3"
  },
  "language_info": {
   "codemirror_mode": {
    "name": "ipython",
    "version": 2
   },
   "file_extension": ".py",
   "mimetype": "text/x-python",
   "name": "python",
   "nbconvert_exporter": "python",
   "pygments_lexer": "ipython2",
   "version": "2.7.6"
  }
 },
 "nbformat": 4,
 "nbformat_minor": 5
}
